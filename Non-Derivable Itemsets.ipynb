{
 "cells": [
  {
   "cell_type": "markdown",
   "id": "f16e16c3-3d65-4c40-b9ab-3b8fee95cfe4",
   "metadata": {},
   "source": [
    "# Non-Derivable Itemsets"
   ]
  },
  {
   "cell_type": "markdown",
   "id": "020605eb-9e4c-4ac5-8f07-821cc859237b",
   "metadata": {},
   "source": [
    "Your goal here is to write a program to compute whether an itemset is derivable or not. The program should take as input the following two files:\n",
    "\n",
    "FILE1: A list of itemsets with their support values (one per line). See the file: itemsets.txt (the format is \"itemset - support\"; one per line)\n",
    "\n",
    "FILE2: A list of itemsets (one per line), whose support bounds have to be derived. See the file: ndi.txt\n",
    "\n",
    "Your program should output for each itemset in FILE2 the following info:\n",
    "\n",
    "itemset: [l,u] derivable/non-derivable\n",
    "\n",
    "where l and u are the lower and upper-bounds on the support."
   ]
  },
  {
   "cell_type": "code",
   "execution_count": 1,
   "id": "3ff859a8-16fe-4acd-b49b-13598762fb3e",
   "metadata": {},
   "outputs": [],
   "source": [
    "def nditem(file1='data/itemsets.txt', file2='data/ndi.txt'):\n",
    "    \"\"\"\n",
    "    Compute whether an itemset is derivable or not given data from file1 and file2\n",
    "    * Args:\n",
    "        - file1: A list of itemsets with their support values of the format \"itemset - support\"; one per line\n",
    "        - file2: A list of itemsets (one per line), whose support bounds have to be derived\n",
    "    * Return:\n",
    "        itemset: [l,u] derivable/non-derivable for each itemset in file2 where l and u are the lower and upper-bounds on the support.\n",
    "    \"\"\"\n",
    "    import numpy as np\n",
    "    from itertools import combinations\n",
    "    from collections import defaultdict\n",
    "\n",
    "    def IE(Y, X):\n",
    "        \"\"\"\n",
    "        Calculate IE(Y) given an itemset X and Y is a subset of X\n",
    "        \"\"\"\n",
    "\n",
    "        Y = np.array(Y)\n",
    "        X = np.array(X)\n",
    "        assert np.setdiff1d(Y, X).shape[0] == 0\n",
    "\n",
    "        Z = np.setdiff1d(X, Y)\n",
    "        z_len = Z.shape[0]\n",
    "        ie = 0\n",
    "\n",
    "        for i in range(z_len):\n",
    "            for subset in combinations(Z, i):\n",
    "                W = tuple(np.union1d(Y, np.array(subset)))\n",
    "                if (z_len - i + 1) % 2 == 0:\n",
    "                    ie += supports[W]\n",
    "                else:\n",
    "                    ie -= supports[W]\n",
    "\n",
    "        return ie\n",
    "\n",
    "\n",
    "    def support_bounds(itemset):\n",
    "        \"\"\"\n",
    "        Calculate lower and upper bound for support\n",
    "        \"\"\"\n",
    "\n",
    "        upper_bound = np.inf\n",
    "        lower_bound = 0\n",
    "\n",
    "        n = len(itemset)\n",
    "\n",
    "        for i in range(n + 1):\n",
    "            if (n - i) % 2 == 1:\n",
    "                for subset in combinations(itemset, i):\n",
    "                    ie = IE(subset, itemset)\n",
    "                    if ie < upper_bound:\n",
    "                        upper_bound = ie\n",
    "            else:\n",
    "                for subset in combinations(itemset, i):\n",
    "                    ie = IE(subset, itemset)\n",
    "                    if ie > lower_bound:\n",
    "                        lower_bound = ie\n",
    "\n",
    "        return lower_bound, upper_bound\n",
    "    \n",
    "    \n",
    "    # Read in file1\n",
    "    with open(file1, 'r') as f1:\n",
    "        lines = f1.read().splitlines()\n",
    "        tid_num = int(lines[0].split(' - ')[-1])  # Number of tids - support of empty set\n",
    "        lines = lines[1:]\n",
    "\n",
    "\n",
    "    # Save the data in file1\n",
    "    supports = dict()\n",
    "    supports[()] = tid_num\n",
    "\n",
    "    for line in lines:\n",
    "        itemset_text, support_text = line.split('-')\n",
    "        support = int(support_text.strip())\n",
    "        itemset = tuple(np.array(itemset_text.split()).astype(int))\n",
    "        supports[itemset] = support\n",
    "\n",
    "\n",
    "    # Read in file2\n",
    "    with open(file2, 'r') as f2:\n",
    "        lines = f2.read().splitlines()\n",
    "\n",
    "    itemsets = [np.array(line.split()).astype(int) for line in lines]\n",
    "    \n",
    "    # Print out the result\n",
    "    for itemset in itemsets:\n",
    "        lb, ub = support_bounds(itemset)\n",
    "        print(f\"{' '.join(itemset.astype(str))}: [{lb}, {ub}] {'derivable' if lb == ub else 'non-derivable'}\")"
   ]
  },
  {
   "cell_type": "code",
   "execution_count": 2,
   "id": "8be8c757-91ca-4ea2-819a-1a4365b65a18",
   "metadata": {},
   "outputs": [
    {
     "name": "stdout",
     "output_type": "stream",
     "text": [
      "29 34 40 52 62: [2888, 2888] derivable\n",
      "7 29: [3061, 3076] non-derivable\n",
      "29 48 58: [2997, 2997] derivable\n",
      "7 29 36 40 52 58 60: [2890, 2890] derivable\n",
      "5 40 52 60: [2893, 2893] derivable\n",
      "7 36 40 58: [2952, 2952] derivable\n",
      "36 40 52 58 60 66: [2888, 2888] derivable\n"
     ]
    }
   ],
   "source": [
    "nditem()"
   ]
  },
  {
   "cell_type": "code",
   "execution_count": null,
   "id": "e261a960-84e5-478e-8f69-a011380c8581",
   "metadata": {},
   "outputs": [],
   "source": []
  }
 ],
 "metadata": {
  "kernelspec": {
   "display_name": "Python 3 (ipykernel)",
   "language": "python",
   "name": "python3"
  },
  "language_info": {
   "codemirror_mode": {
    "name": "ipython",
    "version": 3
   },
   "file_extension": ".py",
   "mimetype": "text/x-python",
   "name": "python",
   "nbconvert_exporter": "python",
   "pygments_lexer": "ipython3",
   "version": "3.8.8"
  }
 },
 "nbformat": 4,
 "nbformat_minor": 5
}
