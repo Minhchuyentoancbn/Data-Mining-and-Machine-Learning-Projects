{
 "cells": [
  {
   "cell_type": "markdown",
   "id": "8ba8c51f-5408-4d76-9b33-cd3cffcc5197",
   "metadata": {
    "canvas": {
     "comments": [],
     "componentType": "CodeCell",
     "copiedOriginId": null,
     "diskcache": false,
     "headerColor": "inherit",
     "id": "e2245bc7-d46a-4828-a928-cfd51ed8ec14",
     "isComponent": false,
     "name": "",
     "parents": []
    },
    "jp-MarkdownHeadingCollapsed": true,
    "tags": []
   },
   "source": [
    "# Network Properties for Ecoli"
   ]
  },
  {
   "cell_type": "markdown",
   "id": "bd6c11a0-b03d-4c5c-b455-968e1ddd8914",
   "metadata": {
    "canvas": {
     "comments": [],
     "componentType": "CodeCell",
     "copiedOriginId": null,
     "diskcache": false,
     "headerColor": "inherit",
     "id": "f1fe5260-dd35-4b98-a958-eca304c6578f",
     "isComponent": false,
     "name": "",
     "parents": []
    }
   },
   "source": [
    "Download the file Ecoli.txt that gives the gene network for E.Coli. It has an (undirected) edge whenever there is an interaction between the two genes."
   ]
  },
  {
   "cell_type": "markdown",
   "id": "4a20600e-309c-4514-ac15-094be44c0b0b",
   "metadata": {
    "canvas": {
     "comments": [],
     "componentType": "CodeCell",
     "copiedOriginId": null,
     "diskcache": false,
     "headerColor": "inherit",
     "id": "b5f24d8c-87ca-411d-99a3-82aa19782631",
     "isComponent": false,
     "name": "",
     "parents": []
    },
    "jp-MarkdownHeadingCollapsed": true,
    "tags": []
   },
   "source": [
    "## Import libraries and dataset"
   ]
  },
  {
   "cell_type": "code",
   "execution_count": 1,
   "id": "8829a7a6-8b3b-4576-9065-d09b48db7644",
   "metadata": {
    "canvas": {
     "comments": [],
     "componentType": "CodeCell",
     "copiedOriginId": null,
     "diskcache": false,
     "headerColor": "#FF004F",
     "id": "57b93b5e-ba13-45b1-9d30-3adc6a3f7319",
     "isComponent": true,
     "name": "Import libraries",
     "parents": []
    },
    "tags": []
   },
   "outputs": [],
   "source": [
    "import numpy as np\n",
    "import pandas as pd\n",
    "import networkx as nx\n",
    "import matplotlib.pyplot as plt\n",
    "from sklearn.linear_model import LinearRegression\n",
    "\n",
    "%matplotlib inline"
   ]
  },
  {
   "cell_type": "code",
   "execution_count": 2,
   "id": "58c7c69a-3655-43ad-93bb-2715284ba97c",
   "metadata": {
    "canvas": {
     "comments": [],
     "componentType": "CodeCell",
     "copiedOriginId": null,
     "diskcache": false,
     "headerColor": "#FF004F",
     "id": "862e3692-b220-4b3d-bdba-8d18e5fe88f2",
     "isComponent": true,
     "name": "Import dataset",
     "parents": [
      {
       "id": "57b93b5e-ba13-45b1-9d30-3adc6a3f7319",
       "name": "Import libraries"
      }
     ]
    },
    "tags": []
   },
   "outputs": [],
   "source": [
    "g = nx.read_adjlist('data/Ecoli.txt', nodetype=int)"
   ]
  },
  {
   "cell_type": "markdown",
   "id": "bb68af00-9c62-4532-b2b5-e8a0df113064",
   "metadata": {
    "canvas": {
     "comments": [],
     "componentType": "CodeCell",
     "copiedOriginId": null,
     "diskcache": false,
     "headerColor": "inherit",
     "id": "8808fd83-7d57-4490-bbd4-df12ffdc1cab",
     "isComponent": false,
     "name": "",
     "parents": []
    },
    "jp-MarkdownHeadingCollapsed": true,
    "tags": []
   },
   "source": [
    "## Diameter"
   ]
  },
  {
   "cell_type": "markdown",
   "id": "754f3b7f-154b-4f11-b032-ecf07670b900",
   "metadata": {
    "canvas": {
     "comments": [],
     "componentType": "CodeCell",
     "copiedOriginId": null,
     "diskcache": false,
     "headerColor": "inherit",
     "id": "4e667a3b-79ef-477d-8549-774120f7e01b",
     "isComponent": false,
     "name": "",
     "parents": []
    }
   },
   "source": [
    "For this assignment, ignore if i cannot reach j."
   ]
  },
  {
   "cell_type": "markdown",
   "id": "407ab896-cc93-4ed3-b09b-6daf4f1df23c",
   "metadata": {
    "canvas": {
     "comments": [],
     "componentType": "CodeCell",
     "copiedOriginId": null,
     "diskcache": false,
     "headerColor": "inherit",
     "id": "1374ad1b-8e15-4eab-bde5-ae6dfb35cc08",
     "isComponent": false,
     "name": "",
     "parents": []
    },
    "jp-MarkdownHeadingCollapsed": true,
    "tags": []
   },
   "source": [
    "### Using bultin function"
   ]
  },
  {
   "cell_type": "code",
   "execution_count": 3,
   "id": "5808dec9-7fa9-4143-8612-f9efe99afd1f",
   "metadata": {
    "canvas": {
     "comments": [],
     "componentType": "CodeCell",
     "copiedOriginId": null,
     "diskcache": false,
     "headerColor": "inherit",
     "id": "b55b28db-10a4-465c-b78d-7811f6ebaadd",
     "isComponent": false,
     "name": "",
     "parents": []
    }
   },
   "outputs": [
    {
     "name": "stdout",
     "output_type": "stream",
     "text": [
      "9\n",
      "12.3 s ± 0 ns per loop (mean ± std. dev. of 1 run, 1 loop each)\n"
     ]
    }
   ],
   "source": [
    "%%timeit -r 1 -n 1 \n",
    "diameters = list()\n",
    "\n",
    "for component in nx.connected_components(g):\n",
    "    diameters.append(nx.diameter(g.subgraph(component)))\n",
    "    \n",
    "print(max(diameters))"
   ]
  },
  {
   "cell_type": "markdown",
   "id": "b81373ca-666d-4d08-8984-a5426a5c2bce",
   "metadata": {
    "canvas": {
     "comments": [],
     "componentType": "CodeCell",
     "copiedOriginId": null,
     "diskcache": false,
     "headerColor": "inherit",
     "id": "0dc360bd-307d-47b8-8a79-35200c243aee",
     "isComponent": false,
     "name": "",
     "parents": []
    },
    "tags": []
   },
   "source": [
    "### Manual"
   ]
  },
  {
   "cell_type": "code",
   "execution_count": 4,
   "id": "b06dd014-a216-487b-9332-0f5940d26711",
   "metadata": {
    "canvas": {
     "comments": [],
     "componentType": "CodeCell",
     "copiedOriginId": null,
     "diskcache": false,
     "headerColor": "#FF8200",
     "id": "2313049e-2cfb-43d0-a795-40b639040352",
     "isComponent": true,
     "name": "Diameter",
     "parents": [
      {
       "id": "862e3692-b220-4b3d-bdba-8d18e5fe88f2",
       "name": "Import dataset"
      }
     ]
    },
    "tags": []
   },
   "outputs": [
    {
     "data": {
      "text/plain": [
       "9"
      ]
     },
     "execution_count": 4,
     "metadata": {},
     "output_type": "execute_result"
    }
   ],
   "source": [
    "def diameter(g):\n",
    "    diam = -1\n",
    "\n",
    "    for component in nx.connected_components(g):\n",
    "        subgraph = g.subgraph(component)\n",
    "        for i in component:\n",
    "            for j in component:\n",
    "                path_length = len(nx.shortest_path(subgraph, i, j)) - 1\n",
    "                if path_length > diam:\n",
    "                    diam = path_length\n",
    "                    \n",
    "    return diam\n",
    "                    \n",
    "diameter(g)"
   ]
  },
  {
   "cell_type": "markdown",
   "id": "714cafe1-2a25-4fdd-bcc7-b7eac27e79bf",
   "metadata": {
    "canvas": {
     "comments": [],
     "componentType": "CodeCell",
     "copiedOriginId": null,
     "diskcache": false,
     "headerColor": "inherit",
     "id": "27d17688-1dc9-4b08-b9af-4e2ee84ca5fe",
     "isComponent": false,
     "name": "",
     "parents": []
    },
    "jp-MarkdownHeadingCollapsed": true,
    "tags": []
   },
   "source": [
    "## Degree Distribution"
   ]
  },
  {
   "cell_type": "code",
   "execution_count": 8,
   "id": "98ed489a-92e0-4a54-844b-b72e108991e4",
   "metadata": {
    "canvas": {
     "comments": [],
     "componentType": "CodeCell",
     "copiedOriginId": null,
     "diskcache": false,
     "headerColor": "#FF8200",
     "id": "a5fc8b2e-e679-45ec-b68b-3aae3bbe5ebc",
     "isComponent": true,
     "name": "Degree Distribution",
     "parents": [
      {
       "id": "862e3692-b220-4b3d-bdba-8d18e5fe88f2",
       "name": "Import dataset"
      }
     ]
    },
    "tags": []
   },
   "outputs": [
    {
     "name": "stdout",
     "output_type": "stream",
     "text": [
      "{3: 0.1412140575079872, 7: 0.019808306709265176, 11: 0.008306709265175719, 33: 0.0019169329073482429, 2: 0.2268370607028754, 18: 0.0006389776357827476, 4: 0.09520766773162939, 34: 0.0012779552715654952, 19: 0.0006389776357827476, 139: 0.0006389776357827476, 97: 0.0006389776357827476, 216: 0.0006389776357827476, 217: 0.0006389776357827476, 1: 0.3539936102236422, 8: 0.008306709265175719, 430: 0.0006389776357827476, 10: 0.003194888178913738, 5: 0.03642172523961661, 6: 0.06261980830670927, 157: 0.0006389776357827476, 221: 0.0006389776357827476, 115: 0.0006389776357827476, 25: 0.0012779552715654952, 49: 0.0006389776357827476, 277: 0.0006389776357827476, 30: 0.0006389776357827476, 9: 0.011501597444089457, 40: 0.0006389776357827476, 20: 0.0012779552715654952, 87: 0.0006389776357827476, 14: 0.0012779552715654952, 16: 0.0012779552715654952, 90: 0.0012779552715654952, 83: 0.0006389776357827476, 46: 0.0006389776357827476, 15: 0.0019169329073482429, 45: 0.0006389776357827476, 54: 0.0006389776357827476, 36: 0.0012779552715654952, 31: 0.0006389776357827476, 55: 0.0006389776357827476, 13: 0.0012779552715654952, 12: 0.003194888178913738, 23: 0.0012779552715654952, 22: 0.0006389776357827476}\n"
     ]
    }
   ],
   "source": [
    "def degree_distribution(g):\n",
    "    distribution = dict()\n",
    "    total_nodes = len(g.nodes())\n",
    "    for node, degree in g.degree():\n",
    "        distribution.setdefault(degree, 0)\n",
    "        distribution[degree] += 1\n",
    "\n",
    "    for degree in distribution:\n",
    "        distribution[degree] /= total_nodes\n",
    "        \n",
    "    return distribution\n",
    "\n",
    "distribution = degree_distribution(g)\n",
    "print(distribution)"
   ]
  },
  {
   "cell_type": "code",
   "execution_count": 12,
   "id": "0df969f2-2b96-4591-a2f3-0a58b9da3f54",
   "metadata": {
    "canvas": {
     "comments": [],
     "componentType": "CodeCell",
     "copiedOriginId": null,
     "diskcache": false,
     "headerColor": "#FF00C3",
     "id": "ebdc5695-f630-47a8-943e-d8d6b26398a8",
     "isComponent": true,
     "name": "Plot distribution",
     "parents": [
      {
       "id": "a5fc8b2e-e679-45ec-b68b-3aae3bbe5ebc",
       "name": "Degree Distribution"
      }
     ]
    },
    "tags": []
   },
   "outputs": [
    {
     "name": "stdout",
     "output_type": "stream",
     "text": [
      "Gamma: 1.0051160568647628\n"
     ]
    },
    {
     "data": {
      "image/png": "[encoded data removed]",
      "text/plain": [
       "<Figure size 864x576 with 1 Axes>"
      ]
     },
     "metadata": {
      "needs_background": "light"
     },
     "output_type": "display_data"
    }
   ],
   "source": [
    "def plot_distribution(distribution, ax):\n",
    "\n",
    "    degrees, freq = zip(*sorted(list(distribution.items()), key=lambda x: x[0]))\n",
    "\n",
    "    # Omit some values\n",
    "    degrees = degrees[:-10]\n",
    "    freq = freq[:-10]\n",
    "    \n",
    "    model = LinearRegression().fit(np.log(degrees)[:, np.newaxis], np.log(freq))\n",
    "\n",
    "    x = np.log(degrees)\n",
    "    y = np.log(freq) \n",
    "\n",
    "    x0 = np.linspace(x.min() - 1, x.max() + 1, 1000)\n",
    "    y0 = model.predict(x0[:, np.newaxis])\n",
    "    ax.plot(x0, y0)\n",
    "    ax.scatter(x, y)\n",
    "    ax.axis('equal')\n",
    "    \n",
    "    return ax, -model.intercept_\n",
    "\n",
    "fig, ax = plt.subplots(figsize=(12, 8))\n",
    "ax, gamma = plot_distribution(distribution, ax)\n",
    "plt.tight_layout()\n",
    "print(f\"Gamma: {gamma}\")"
   ]
  },
  {
   "cell_type": "markdown",
   "id": "329e9b3e-cf39-4cb8-8bf1-4c1b52cfd8cd",
   "metadata": {
    "canvas": {
     "comments": [],
     "componentType": "CodeCell",
     "copiedOriginId": null,
     "diskcache": false,
     "headerColor": "inherit",
     "id": "c1781a80-439f-4a56-bad5-fa5be40ee0bb",
     "isComponent": false,
     "name": "",
     "parents": []
    },
    "jp-MarkdownHeadingCollapsed": true,
    "tags": []
   },
   "source": [
    "## Clustering Coefficient"
   ]
  },
  {
   "cell_type": "code",
   "execution_count": 14,
   "id": "1924f1ce-1c73-4341-9940-8c565e5a8923",
   "metadata": {
    "canvas": {
     "comments": [],
     "componentType": "CodeCell",
     "copiedOriginId": null,
     "diskcache": false,
     "headerColor": "#FF8200",
     "id": "11a0ac08-7b41-4c44-ab2d-5292e2a08231",
     "isComponent": true,
     "name": "Clustering Coefficient",
     "parents": [
      {
       "id": "862e3692-b220-4b3d-bdba-8d18e5fe88f2",
       "name": "Import dataset"
      }
     ]
    },
    "tags": []
   },
   "outputs": [
    {
     "name": "stdout",
     "output_type": "stream",
     "text": [
      "0.2116414939186282\n"
     ]
    }
   ],
   "source": [
    "def cluster_coefficient(g):\n",
    "\n",
    "    cluster_coefs_sum = 0\n",
    "    total_nodes = len(g.degree)\n",
    "    \n",
    "    for node in g.nodes():\n",
    "        if g.degree[node] >= 2:\n",
    "            num_neighbor = g.degree[node]\n",
    "            max_edges = num_neighbor * (num_neighbor - 1) / 2\n",
    "            real_edges = len(nx.subgraph(g, nx.neighbors(g, node)).edges)\n",
    "            coef = real_edges / max_edges\n",
    "            cluster_coefs_sum += coef\n",
    "            \n",
    "    return cluster_coefs_sum / total_nodes\n",
    "        \n",
    "print(cluster_coefficient(g))\n"
   ]
  },
  {
   "cell_type": "markdown",
   "id": "6f263cd1-e69d-414c-be7e-8c48b8ad61bc",
   "metadata": {
    "canvas": {
     "comments": [],
     "componentType": "CodeCell",
     "copiedOriginId": null,
     "diskcache": false,
     "headerColor": "inherit",
     "id": "1dbcc895-d610-46bc-8adc-37aa75b6f716",
     "isComponent": false,
     "name": "",
     "parents": []
    }
   },
   "source": [
    "# Page Rank in E. Coli"
   ]
  },
  {
   "cell_type": "markdown",
   "id": "3802f097-3b20-4c51-acfb-19e7e86b4873",
   "metadata": {
    "canvas": {
     "comments": [],
     "componentType": "CodeCell",
     "copiedOriginId": null,
     "diskcache": false,
     "headerColor": "inherit",
     "id": "4353563b-1027-40a5-a537-59ac8423ca59",
     "isComponent": false,
     "name": "",
     "parents": []
    }
   },
   "source": [
    "Download the file Ecoli-directed.txt that gives the gene regulatory network for E.Coli. It has a directed edge from gene u to gene v, if u controls v\n",
    "\n",
    "Compute the pagerank for each gene, via the power-iteration method, assuming that d=0.1, that is with probability 0.1 we follow a random link, and with probability 0.9 an existing link from each node"
   ]
  },
  {
   "cell_type": "code",
   "execution_count": 50,
   "id": "365574fc-882e-429c-83de-ed37ff2b3f36",
   "metadata": {
    "canvas": {
     "comments": [],
     "componentType": "CodeCell",
     "copiedOriginId": null,
     "diskcache": false,
     "headerColor": "inherit",
     "id": "bd91cad3-676c-4397-aa9e-1ee46b13a95d",
     "isComponent": false,
     "name": "",
     "parents": []
    }
   },
   "outputs": [],
   "source": [
    "g = nx.read_adjlist(\n",
    "    'data/Ecoli-directed.txt', nodetype=int, \n",
    "    create_using=nx.DiGraph)"
   ]
  },
  {
   "cell_type": "code",
   "execution_count": 51,
   "id": "9b079702",
   "metadata": {
    "canvas": {
     "comments": [],
     "componentType": "CodeCell",
     "copiedOriginId": null,
     "diskcache": false,
     "headerColor": "none",
     "id": "15d51838-6843-40fc-860a-8bd600df7c79",
     "isComponent": false,
     "name": "",
     "parents": []
    }
   },
   "outputs": [],
   "source": [
    "def is_adjacent(i, j):\n",
    "    if j in g[i]:\n",
    "        return 1.0\n",
    "    return 0.0"
   ]
  },
  {
   "cell_type": "code",
   "execution_count": 52,
   "id": "388f5729",
   "metadata": {
    "canvas": {
     "comments": [],
     "componentType": "CodeCell",
     "copiedOriginId": null,
     "diskcache": false,
     "headerColor": "none",
     "id": "1b8e0baa-1052-496c-ae41-b5afb530c221",
     "isComponent": false,
     "name": "",
     "parents": []
    }
   },
   "outputs": [],
   "source": [
    "def page_rank(g):\n",
    "\n",
    "    n = len(g.nodes)\n",
    "    d = 0.1\n",
    "\n",
    "    N_r = np.ones((n, n)) / n\n",
    "\n",
    "    N = np.fromfunction(np.vectorize(is_adjacent), shape=(n, n))\n",
    "    cond = N.sum(axis=1) > 0\n",
    "    N[cond] /= N[cond].sum(axis=1).reshape((-1, 1))\n",
    "    N[~cond] = 1/n\n",
    "\n",
    "    M = (1-d)*N + d*N_r\n",
    "    \n",
    "    # intitial vector\n",
    "    p = np.ones(n)\n",
    " \n",
    "    while True:\n",
    "        p_new = M.T @ p\n",
    "        i = p_new.argmax()\n",
    "        p_new = p_new / p[i]\n",
    "        if np.linalg.norm(p_new - p) <= 0.001:\n",
    "            p = p_new\n",
    "            break\n",
    "        p = p_new\n",
    "        \n",
    "    p = p / np.linalg.norm(p)\n",
    "    \n",
    "    return p\n",
    "    \n",
    "p = page_rank(g)"
   ]
  },
  {
   "cell_type": "code",
   "execution_count": 53,
   "id": "3e6866cf-279a-4c01-bf30-5130ac9a53a8",
   "metadata": {
    "canvas": {
     "comments": [],
     "componentType": "CodeCell",
     "copiedOriginId": null,
     "diskcache": false,
     "headerColor": "inherit",
     "id": "0dc9bea2-f56e-4197-b739-dd4d3b8d4805",
     "isComponent": false,
     "name": "",
     "parents": []
    }
   },
   "outputs": [
    {
     "name": "stdout",
     "output_type": "stream",
     "text": [
      "Top 10 gene: [ 681  478 1555 1556 1353 1354   19 1155 1154  978]\n"
     ]
    }
   ],
   "source": [
    "print(f\"Top 10 gene: {p.argsort()[-10:]}\")"
   ]
  },
  {
   "cell_type": "code",
   "execution_count": null,
   "id": "f84ba55f-3a27-4d7c-ac34-b7324b0dd7ad",
   "metadata": {
    "canvas": {
     "comments": [],
     "componentType": "CodeCell",
     "copiedOriginId": null,
     "diskcache": false,
     "headerColor": "inherit",
     "id": "cad15540-ba2f-4755-82fc-fa1f27ce4778",
     "isComponent": false,
     "name": "",
     "parents": []
    }
   },
   "outputs": [],
   "source": []
  }
 ],
 "metadata": {
  "canvas": {
   "colorPalette": [
    "inherit",
    "inherit",
    "inherit",
    "inherit",
    "inherit",
    "inherit",
    "inherit",
    "inherit",
    "inherit",
    "inherit"
   ],
   "parameters": [],
   "version": "1.0"
  },
  "kernelspec": {
   "display_name": "Python 3 (ipykernel)",
   "language": "python",
   "name": "python3"
  },
  "language_info": {
   "codemirror_mode": {
    "name": "ipython",
    "version": 3
   },
   "file_extension": ".py",
   "mimetype": "text/x-python",
   "name": "python",
   "nbconvert_exporter": "python",
   "pygments_lexer": "ipython3",
   "version": "3.8.8"
  }
 },
 "nbformat": 4,
 "nbformat_minor": 5
}
