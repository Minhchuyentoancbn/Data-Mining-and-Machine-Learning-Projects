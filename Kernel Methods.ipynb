{
 "cells": [
  {
   "cell_type": "markdown",
   "id": "d0ff9f60-3454-44b4-8025-5ce3c7e49572",
   "metadata": {},
   "source": [
    "Download the datafile iris.data from the UCI Machine Learning Repository. This has five attributes with 150 instances. Ignore the last column of the data, which is a categorical attribute for the type of Iris flower."
   ]
  },
  {
   "cell_type": "markdown",
   "id": "ef46d4ab-16d1-4908-a23f-ed508f84fea5",
   "metadata": {
    "tags": []
   },
   "source": [
    "# Import libraries and dataset"
   ]
  },
  {
   "cell_type": "markdown",
   "id": "c43b5101-9845-499f-8401-831a21e24f4a",
   "metadata": {
    "tags": []
   },
   "source": [
    "##### Attribute Information:\n",
    "\n",
    "1. sepal length in cm\n",
    "2. sepal width in cm\n",
    "3. petal length in cm\n",
    "4. petal width in cm\n",
    "5. class:\n",
    "-- Iris Setosa\n",
    "-- Iris Versicolour\n",
    "-- Iris Virginica"
   ]
  },
  {
   "cell_type": "code",
   "execution_count": 1,
   "id": "4ecc80eb-9ced-4f8c-a02a-c11f456680f6",
   "metadata": {},
   "outputs": [],
   "source": [
    "import pandas as pd\n",
    "import numpy as np\n",
    "import matplotlib.pyplot as plt\n",
    "import itertools\n",
    "\n",
    "%matplotlib inline"
   ]
  },
  {
   "cell_type": "code",
   "execution_count": 2,
   "id": "b0b01817-40be-4bf2-b281-554b4e8e6c3b",
   "metadata": {},
   "outputs": [],
   "source": [
    "def import_dataset():\n",
    "    df = pd.read_csv('data/iris.data', header=None)\n",
    "    df.columns = ['sepal_length', 'sepal_width', 'petal_length', 'petal_width', 'class']\n",
    "    return df.drop(columns='class')"
   ]
  },
  {
   "cell_type": "code",
   "execution_count": 3,
   "id": "dcc96049-f1ec-4147-ad2e-67c1bec2619c",
   "metadata": {},
   "outputs": [
    {
     "data": {
      "text/html": [
       "<div>\n",
       "<style scoped>\n",
       "    .dataframe tbody tr th:only-of-type {\n",
       "        vertical-align: middle;\n",
       "    }\n",
       "\n",
       "    .dataframe tbody tr th {\n",
       "        vertical-align: top;\n",
       "    }\n",
       "\n",
       "    .dataframe thead th {\n",
       "        text-align: right;\n",
       "    }\n",
       "</style>\n",
       "<table border=\"1\" class=\"dataframe\">\n",
       "  <thead>\n",
       "    <tr style=\"text-align: right;\">\n",
       "      <th></th>\n",
       "      <th>sepal_length</th>\n",
       "      <th>sepal_width</th>\n",
       "      <th>petal_length</th>\n",
       "      <th>petal_width</th>\n",
       "    </tr>\n",
       "  </thead>\n",
       "  <tbody>\n",
       "    <tr>\n",
       "      <th>0</th>\n",
       "      <td>5.1</td>\n",
       "      <td>3.5</td>\n",
       "      <td>1.4</td>\n",
       "      <td>0.2</td>\n",
       "    </tr>\n",
       "    <tr>\n",
       "      <th>1</th>\n",
       "      <td>4.9</td>\n",
       "      <td>3.0</td>\n",
       "      <td>1.4</td>\n",
       "      <td>0.2</td>\n",
       "    </tr>\n",
       "    <tr>\n",
       "      <th>2</th>\n",
       "      <td>4.7</td>\n",
       "      <td>3.2</td>\n",
       "      <td>1.3</td>\n",
       "      <td>0.2</td>\n",
       "    </tr>\n",
       "    <tr>\n",
       "      <th>3</th>\n",
       "      <td>4.6</td>\n",
       "      <td>3.1</td>\n",
       "      <td>1.5</td>\n",
       "      <td>0.2</td>\n",
       "    </tr>\n",
       "    <tr>\n",
       "      <th>4</th>\n",
       "      <td>5.0</td>\n",
       "      <td>3.6</td>\n",
       "      <td>1.4</td>\n",
       "      <td>0.2</td>\n",
       "    </tr>\n",
       "  </tbody>\n",
       "</table>\n",
       "</div>"
      ],
      "text/plain": [
       "   sepal_length  sepal_width  petal_length  petal_width\n",
       "0           5.1          3.5           1.4          0.2\n",
       "1           4.9          3.0           1.4          0.2\n",
       "2           4.7          3.2           1.3          0.2\n",
       "3           4.6          3.1           1.5          0.2\n",
       "4           5.0          3.6           1.4          0.2"
      ]
     },
     "execution_count": 3,
     "metadata": {},
     "output_type": "execute_result"
    }
   ],
   "source": [
    "iris = import_dataset()\n",
    "iris.head()"
   ]
  },
  {
   "cell_type": "code",
   "execution_count": 4,
   "id": "e2578989-94e0-4657-9ba5-912125d2e584",
   "metadata": {},
   "outputs": [
    {
     "name": "stdout",
     "output_type": "stream",
     "text": [
      "<class 'pandas.core.frame.DataFrame'>\n",
      "RangeIndex: 150 entries, 0 to 149\n",
      "Data columns (total 4 columns):\n",
      " #   Column        Non-Null Count  Dtype  \n",
      "---  ------        --------------  -----  \n",
      " 0   sepal_length  150 non-null    float64\n",
      " 1   sepal_width   150 non-null    float64\n",
      " 2   petal_length  150 non-null    float64\n",
      " 3   petal_width   150 non-null    float64\n",
      "dtypes: float64(4)\n",
      "memory usage: 4.8 KB\n"
     ]
    }
   ],
   "source": [
    "iris.info()"
   ]
  },
  {
   "cell_type": "code",
   "execution_count": 5,
   "id": "b79b97ef-c7d7-4711-a5d8-84c96b06beb2",
   "metadata": {},
   "outputs": [
    {
     "data": {
      "text/html": [
       "<div>\n",
       "<style scoped>\n",
       "    .dataframe tbody tr th:only-of-type {\n",
       "        vertical-align: middle;\n",
       "    }\n",
       "\n",
       "    .dataframe tbody tr th {\n",
       "        vertical-align: top;\n",
       "    }\n",
       "\n",
       "    .dataframe thead th {\n",
       "        text-align: right;\n",
       "    }\n",
       "</style>\n",
       "<table border=\"1\" class=\"dataframe\">\n",
       "  <thead>\n",
       "    <tr style=\"text-align: right;\">\n",
       "      <th></th>\n",
       "      <th>sepal_length</th>\n",
       "      <th>sepal_width</th>\n",
       "      <th>petal_length</th>\n",
       "      <th>petal_width</th>\n",
       "    </tr>\n",
       "  </thead>\n",
       "  <tbody>\n",
       "    <tr>\n",
       "      <th>count</th>\n",
       "      <td>150.000000</td>\n",
       "      <td>150.000000</td>\n",
       "      <td>150.000000</td>\n",
       "      <td>150.000000</td>\n",
       "    </tr>\n",
       "    <tr>\n",
       "      <th>mean</th>\n",
       "      <td>5.843333</td>\n",
       "      <td>3.054000</td>\n",
       "      <td>3.758667</td>\n",
       "      <td>1.198667</td>\n",
       "    </tr>\n",
       "    <tr>\n",
       "      <th>std</th>\n",
       "      <td>0.828066</td>\n",
       "      <td>0.433594</td>\n",
       "      <td>1.764420</td>\n",
       "      <td>0.763161</td>\n",
       "    </tr>\n",
       "    <tr>\n",
       "      <th>min</th>\n",
       "      <td>4.300000</td>\n",
       "      <td>2.000000</td>\n",
       "      <td>1.000000</td>\n",
       "      <td>0.100000</td>\n",
       "    </tr>\n",
       "    <tr>\n",
       "      <th>25%</th>\n",
       "      <td>5.100000</td>\n",
       "      <td>2.800000</td>\n",
       "      <td>1.600000</td>\n",
       "      <td>0.300000</td>\n",
       "    </tr>\n",
       "    <tr>\n",
       "      <th>50%</th>\n",
       "      <td>5.800000</td>\n",
       "      <td>3.000000</td>\n",
       "      <td>4.350000</td>\n",
       "      <td>1.300000</td>\n",
       "    </tr>\n",
       "    <tr>\n",
       "      <th>75%</th>\n",
       "      <td>6.400000</td>\n",
       "      <td>3.300000</td>\n",
       "      <td>5.100000</td>\n",
       "      <td>1.800000</td>\n",
       "    </tr>\n",
       "    <tr>\n",
       "      <th>max</th>\n",
       "      <td>7.900000</td>\n",
       "      <td>4.400000</td>\n",
       "      <td>6.900000</td>\n",
       "      <td>2.500000</td>\n",
       "    </tr>\n",
       "  </tbody>\n",
       "</table>\n",
       "</div>"
      ],
      "text/plain": [
       "       sepal_length  sepal_width  petal_length  petal_width\n",
       "count    150.000000   150.000000    150.000000   150.000000\n",
       "mean       5.843333     3.054000      3.758667     1.198667\n",
       "std        0.828066     0.433594      1.764420     0.763161\n",
       "min        4.300000     2.000000      1.000000     0.100000\n",
       "25%        5.100000     2.800000      1.600000     0.300000\n",
       "50%        5.800000     3.000000      4.350000     1.300000\n",
       "75%        6.400000     3.300000      5.100000     1.800000\n",
       "max        7.900000     4.400000      6.900000     2.500000"
      ]
     },
     "execution_count": 5,
     "metadata": {},
     "output_type": "execute_result"
    }
   ],
   "source": [
    "iris.describe()"
   ]
  },
  {
   "cell_type": "markdown",
   "id": "4d82f74d-340c-40b8-bc6d-4c0cd5ae6a68",
   "metadata": {},
   "source": [
    "# Kernel Feature Space"
   ]
  },
  {
   "cell_type": "markdown",
   "id": "a5cc0863-c03b-4538-b90a-b7a57de21186",
   "metadata": {},
   "source": [
    "Compute the centered and normalized homogeneous quadratic kernel matrix K for the iris dataset using the kernel function in input space."
   ]
  },
  {
   "cell_type": "code",
   "execution_count": 6,
   "id": "2fe006bd-be06-4ce2-8829-879b7f6fda9b",
   "metadata": {},
   "outputs": [
    {
     "data": {
      "text/html": [
       "<div>\n",
       "<style scoped>\n",
       "    .dataframe tbody tr th:only-of-type {\n",
       "        vertical-align: middle;\n",
       "    }\n",
       "\n",
       "    .dataframe tbody tr th {\n",
       "        vertical-align: top;\n",
       "    }\n",
       "\n",
       "    .dataframe thead th {\n",
       "        text-align: right;\n",
       "    }\n",
       "</style>\n",
       "<table border=\"1\" class=\"dataframe\">\n",
       "  <thead>\n",
       "    <tr style=\"text-align: right;\">\n",
       "      <th></th>\n",
       "      <th>sepal_length</th>\n",
       "      <th>sepal_width</th>\n",
       "      <th>petal_length</th>\n",
       "      <th>petal_width</th>\n",
       "    </tr>\n",
       "  </thead>\n",
       "  <tbody>\n",
       "    <tr>\n",
       "      <th>0</th>\n",
       "      <td>5.1</td>\n",
       "      <td>3.5</td>\n",
       "      <td>1.4</td>\n",
       "      <td>0.2</td>\n",
       "    </tr>\n",
       "    <tr>\n",
       "      <th>1</th>\n",
       "      <td>4.9</td>\n",
       "      <td>3.0</td>\n",
       "      <td>1.4</td>\n",
       "      <td>0.2</td>\n",
       "    </tr>\n",
       "    <tr>\n",
       "      <th>2</th>\n",
       "      <td>4.7</td>\n",
       "      <td>3.2</td>\n",
       "      <td>1.3</td>\n",
       "      <td>0.2</td>\n",
       "    </tr>\n",
       "    <tr>\n",
       "      <th>3</th>\n",
       "      <td>4.6</td>\n",
       "      <td>3.1</td>\n",
       "      <td>1.5</td>\n",
       "      <td>0.2</td>\n",
       "    </tr>\n",
       "    <tr>\n",
       "      <th>4</th>\n",
       "      <td>5.0</td>\n",
       "      <td>3.6</td>\n",
       "      <td>1.4</td>\n",
       "      <td>0.2</td>\n",
       "    </tr>\n",
       "  </tbody>\n",
       "</table>\n",
       "</div>"
      ],
      "text/plain": [
       "   sepal_length  sepal_width  petal_length  petal_width\n",
       "0           5.1          3.5           1.4          0.2\n",
       "1           4.9          3.0           1.4          0.2\n",
       "2           4.7          3.2           1.3          0.2\n",
       "3           4.6          3.1           1.5          0.2\n",
       "4           5.0          3.6           1.4          0.2"
      ]
     },
     "execution_count": 6,
     "metadata": {},
     "output_type": "execute_result"
    }
   ],
   "source": [
    "iris.head()"
   ]
  },
  {
   "cell_type": "code",
   "execution_count": 7,
   "id": "8ed4a77a-0c89-4a46-ab38-fe8c87fc352e",
   "metadata": {},
   "outputs": [],
   "source": [
    "def quadratic_kernel_matrix(df:pd.DataFrame):\n",
    "    X = df.values\n",
    "    return (X @ X.T) ** 2"
   ]
  },
  {
   "cell_type": "code",
   "execution_count": 8,
   "id": "ceecd47e-8480-4e59-af35-a25b6717b751",
   "metadata": {},
   "outputs": [],
   "source": [
    "K = quadratic_kernel_matrix(iris)"
   ]
  },
  {
   "cell_type": "code",
   "execution_count": 9,
   "id": "6e55eb6d-0233-4fec-b8ff-b3d89cc33476",
   "metadata": {},
   "outputs": [
    {
     "data": {
      "text/plain": [
       "(150, 150)"
      ]
     },
     "execution_count": 9,
     "metadata": {},
     "output_type": "execute_result"
    }
   ],
   "source": [
    "K.shape"
   ]
  },
  {
   "cell_type": "code",
   "execution_count": 10,
   "id": "9e72cd78-5f53-41b9-b5fe-8e556cc3f147",
   "metadata": {},
   "outputs": [],
   "source": [
    "def center_normalized_kernel(K: np.ndarray):\n",
    "    n, _ = K.shape\n",
    "    K_center = (np.eye(n, n) - np.ones((n, n))/n) @ K @ (np.eye(n, n) - np.ones((n, n))/n)                                                       \n",
    "    W = np.diag(1 / np.sqrt(np.diag(K_center)))\n",
    "    return W @ K_center @ W     "
   ]
  },
  {
   "cell_type": "code",
   "execution_count": 11,
   "id": "3fd12cfa-9dee-4355-bfb6-d5cc6c94996c",
   "metadata": {},
   "outputs": [],
   "source": [
    "K_cn = center_normalized_kernel(K)"
   ]
  },
  {
   "cell_type": "code",
   "execution_count": 12,
   "id": "c16b6f45-fd3a-4ef1-a8ff-56280fb8fe9f",
   "metadata": {},
   "outputs": [
    {
     "data": {
      "text/plain": [
       "(150, 150)"
      ]
     },
     "execution_count": 12,
     "metadata": {},
     "output_type": "execute_result"
    }
   ],
   "source": [
    "K_cn.shape"
   ]
  },
  {
   "cell_type": "markdown",
   "id": "805103aa-131e-4740-82b9-20f70a43e461",
   "metadata": {},
   "source": [
    "Next, explicitly transform each point xi to the feature space ϕ(xi), using the homogeneous quadratic kernel. Center these points and normalize them. Finally verify that the pair-wise dot products of the centered and normalized points in feature space yield the same kernel matrix computed directly in input space via the kernel function. To do this, compute the matrix difference between the kernel matrices from the two approaches, and then print the sum of the differences"
   ]
  },
  {
   "cell_type": "code",
   "execution_count": 13,
   "id": "5616ddd2-ebbb-44c6-901a-fe77486d8812",
   "metadata": {},
   "outputs": [],
   "source": [
    "def transform_feature(df: pd.DataFrame):\n",
    "    n, d = df.shape\n",
    "    features = df ** 2\n",
    "    for i, j in itertools.combinations(range(d), 2):\n",
    "        features = pd.concat([features, np.sqrt(2) * df.iloc[:, i] * df.iloc[:, j]], axis=1, ignore_index=True)\n",
    "    return features"
   ]
  },
  {
   "cell_type": "code",
   "execution_count": 14,
   "id": "087cd6a5-a564-4a2e-ac1c-773c2859f716",
   "metadata": {},
   "outputs": [],
   "source": [
    "feature_points = transform_feature(iris)\n",
    "points_cn = feature_points.apply(lambda s: (s - s.mean()), axis=0).apply(lambda s: s / np.linalg.norm(s), axis=1)"
   ]
  },
  {
   "cell_type": "code",
   "execution_count": 15,
   "id": "282e1edc-cfb9-4367-bca4-16fbc846ca67",
   "metadata": {},
   "outputs": [],
   "source": [
    "K_cn_2 = points_cn @ points_cn.T"
   ]
  },
  {
   "cell_type": "code",
   "execution_count": 16,
   "id": "8601744e-90b5-4f92-90b6-d654c96ef730",
   "metadata": {},
   "outputs": [
    {
     "name": "stdout",
     "output_type": "stream",
     "text": [
      "3.747184854074881e-13\n"
     ]
    }
   ],
   "source": [
    "print((K_cn - K_cn_2).sum().sum())"
   ]
  },
  {
   "cell_type": "markdown",
   "id": "a499d96b-5a8a-45fc-b98f-510f5dfb1de0",
   "metadata": {},
   "source": [
    "# Principal Components of Kernel Matrix"
   ]
  },
  {
   "cell_type": "markdown",
   "id": "ef32928e-8b5c-4bdf-94ba-0f16905c2369",
   "metadata": {},
   "source": [
    "Compute the principal components (PCs) of the centered and normalized kernel matrix computed above. Note: in Python you may use numpy.linalg.eig; in R you may use eigen.\n",
    "\n",
    "How many components are required to capture 90% of the total variance?\n",
    "\n",
    "Project each of the original points/rows of K onto the first two PCs and create a scatter plot of the projected points. What is the range of values in each PC dimension?"
   ]
  },
  {
   "cell_type": "code",
   "execution_count": 17,
   "id": "0d1c4b94-1b45-413b-819d-bdb6b68325d5",
   "metadata": {},
   "outputs": [],
   "source": [
    "w, v = np.linalg.eig(K_cn)"
   ]
  },
  {
   "cell_type": "code",
   "execution_count": 18,
   "id": "ed12fcbd-42bf-4364-9a9c-90352f252ee0",
   "metadata": {},
   "outputs": [],
   "source": [
    "w = w.real"
   ]
  },
  {
   "cell_type": "code",
   "execution_count": 19,
   "id": "48546201-9d47-4790-af35-ae2e27323d97",
   "metadata": {},
   "outputs": [
    {
     "data": {
      "text/plain": [
       "2"
      ]
     },
     "execution_count": 19,
     "metadata": {},
     "output_type": "execute_result"
    }
   ],
   "source": [
    "# 2 components are required to capture 90% of the total variance\n",
    "(w.cumsum() / w.sum() > 0.9).argmax() + 1"
   ]
  },
  {
   "cell_type": "code",
   "execution_count": 20,
   "id": "e620250e-b774-4bb7-b273-b7bf96625845",
   "metadata": {},
   "outputs": [],
   "source": [
    "pc1 = v[:, 0].real\n",
    "pc2 = v[:, 1].real"
   ]
  },
  {
   "cell_type": "code",
   "execution_count": 21,
   "id": "80f537eb-efa1-4215-a438-250ce9ef273f",
   "metadata": {},
   "outputs": [],
   "source": [
    "pc1_coordinate = K_cn @ pc1"
   ]
  },
  {
   "cell_type": "code",
   "execution_count": 22,
   "id": "e4e03683-2b83-45ef-8a4e-3ecc1731c6c8",
   "metadata": {},
   "outputs": [],
   "source": [
    "pc2_coordinate = K_cn @ pc2"
   ]
  },
  {
   "cell_type": "code",
   "execution_count": 23,
   "id": "64c409c1-0c7d-483d-91b5-1f40b2919c56",
   "metadata": {},
   "outputs": [
    {
     "data": {
      "image/png": "[encoded data removed]",
      "text/plain": [
       "<Figure size 640x480 with 1 Axes>"
      ]
     },
     "metadata": {},
     "output_type": "display_data"
    }
   ],
   "source": [
    "fig, ax = plt.subplots()\n",
    "ax.scatter(pc1_coordinate, pc2_coordinate, alpha=0.3)\n",
    "plt.tight_layout()\n",
    "ax.set_xlabel('PC1')\n",
    "ax.set_ylabel('PC2')\n",
    "plt.axis('equal')\n",
    "plt.show()"
   ]
  },
  {
   "cell_type": "code",
   "execution_count": null,
   "id": "b606045a-9cce-4686-9cd0-d55de37fa60e",
   "metadata": {},
   "outputs": [],
   "source": []
  }
 ],
 "metadata": {
  "kernelspec": {
   "display_name": "Python 3 (ipykernel)",
   "language": "python",
   "name": "python3"
  },
  "language_info": {
   "codemirror_mode": {
    "name": "ipython",
    "version": 3
   },
   "file_extension": ".py",
   "mimetype": "text/x-python",
   "name": "python",
   "nbconvert_exporter": "python",
   "pygments_lexer": "ipython3",
   "version": "3.8.8"
  }
 },
 "nbformat": 4,
 "nbformat_minor": 5
}
